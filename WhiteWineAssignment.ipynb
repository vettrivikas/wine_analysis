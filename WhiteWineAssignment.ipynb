{
  "nbformat": 4,
  "nbformat_minor": 0,
  "metadata": {
    "colab": {
      "name": "WhiteWineAssignment.ipynb",
      "provenance": []
    },
    "kernelspec": {
      "name": "python3",
      "display_name": "Python 3"
    }
  },
  "cells": [
    {
      "cell_type": "code",
      "metadata": {
        "id": "WKvFor20wnN1"
      },
      "source": [
        "import pandas as pd\r\n",
        "from pandas import read_csv"
      ],
      "execution_count": null,
      "outputs": []
    },
    {
      "cell_type": "code",
      "metadata": {
        "colab": {
          "base_uri": "https://localhost:8080/",
          "height": 212
        },
        "id": "y2ZA19mpwxIr",
        "outputId": "f800a549-b123-469b-f396-e304f60cc463"
      },
      "source": [
        "url = '/content/winequality-white.csv'\r\n",
        "data = pd.read_csv(url,na_values='?')\r\n",
        "data.head()"
      ],
      "execution_count": null,
      "outputs": [
        {
          "output_type": "execute_result",
          "data": {
            "text/html": [
              "<div>\n",
              "<style scoped>\n",
              "    .dataframe tbody tr th:only-of-type {\n",
              "        vertical-align: middle;\n",
              "    }\n",
              "\n",
              "    .dataframe tbody tr th {\n",
              "        vertical-align: top;\n",
              "    }\n",
              "\n",
              "    .dataframe thead th {\n",
              "        text-align: right;\n",
              "    }\n",
              "</style>\n",
              "<table border=\"1\" class=\"dataframe\">\n",
              "  <thead>\n",
              "    <tr style=\"text-align: right;\">\n",
              "      <th></th>\n",
              "      <th>fixed acidity</th>\n",
              "      <th>volatile acidity</th>\n",
              "      <th>citric acid</th>\n",
              "      <th>residual sugar</th>\n",
              "      <th>chlorides</th>\n",
              "      <th>free sulfur dioxide</th>\n",
              "      <th>total sulfur dioxide</th>\n",
              "      <th>density</th>\n",
              "      <th>pH</th>\n",
              "      <th>sulphates</th>\n",
              "      <th>alcohol</th>\n",
              "      <th>quality</th>\n",
              "    </tr>\n",
              "  </thead>\n",
              "  <tbody>\n",
              "    <tr>\n",
              "      <th>0</th>\n",
              "      <td>7.0</td>\n",
              "      <td>0.27</td>\n",
              "      <td>0.36</td>\n",
              "      <td>20.7</td>\n",
              "      <td>0.045</td>\n",
              "      <td>45.0</td>\n",
              "      <td>170.0</td>\n",
              "      <td>1.0010</td>\n",
              "      <td>3.00</td>\n",
              "      <td>0.45</td>\n",
              "      <td>8.8</td>\n",
              "      <td>6</td>\n",
              "    </tr>\n",
              "    <tr>\n",
              "      <th>1</th>\n",
              "      <td>6.3</td>\n",
              "      <td>0.30</td>\n",
              "      <td>0.34</td>\n",
              "      <td>1.6</td>\n",
              "      <td>0.049</td>\n",
              "      <td>14.0</td>\n",
              "      <td>132.0</td>\n",
              "      <td>0.9940</td>\n",
              "      <td>3.30</td>\n",
              "      <td>0.49</td>\n",
              "      <td>9.5</td>\n",
              "      <td>6</td>\n",
              "    </tr>\n",
              "    <tr>\n",
              "      <th>2</th>\n",
              "      <td>8.1</td>\n",
              "      <td>0.28</td>\n",
              "      <td>0.40</td>\n",
              "      <td>6.9</td>\n",
              "      <td>0.050</td>\n",
              "      <td>30.0</td>\n",
              "      <td>97.0</td>\n",
              "      <td>0.9951</td>\n",
              "      <td>3.26</td>\n",
              "      <td>0.44</td>\n",
              "      <td>10.1</td>\n",
              "      <td>6</td>\n",
              "    </tr>\n",
              "    <tr>\n",
              "      <th>3</th>\n",
              "      <td>7.2</td>\n",
              "      <td>0.23</td>\n",
              "      <td>0.32</td>\n",
              "      <td>8.5</td>\n",
              "      <td>0.058</td>\n",
              "      <td>47.0</td>\n",
              "      <td>186.0</td>\n",
              "      <td>0.9956</td>\n",
              "      <td>3.19</td>\n",
              "      <td>0.40</td>\n",
              "      <td>9.9</td>\n",
              "      <td>6</td>\n",
              "    </tr>\n",
              "    <tr>\n",
              "      <th>4</th>\n",
              "      <td>7.2</td>\n",
              "      <td>0.23</td>\n",
              "      <td>0.32</td>\n",
              "      <td>8.5</td>\n",
              "      <td>0.058</td>\n",
              "      <td>47.0</td>\n",
              "      <td>186.0</td>\n",
              "      <td>0.9956</td>\n",
              "      <td>3.19</td>\n",
              "      <td>0.40</td>\n",
              "      <td>9.9</td>\n",
              "      <td>6</td>\n",
              "    </tr>\n",
              "  </tbody>\n",
              "</table>\n",
              "</div>"
            ],
            "text/plain": [
              "   fixed acidity  volatile acidity  citric acid  ...  sulphates  alcohol  quality\n",
              "0            7.0              0.27         0.36  ...       0.45      8.8        6\n",
              "1            6.3              0.30         0.34  ...       0.49      9.5        6\n",
              "2            8.1              0.28         0.40  ...       0.44     10.1        6\n",
              "3            7.2              0.23         0.32  ...       0.40      9.9        6\n",
              "4            7.2              0.23         0.32  ...       0.40      9.9        6\n",
              "\n",
              "[5 rows x 12 columns]"
            ]
          },
          "metadata": {
            "tags": []
          },
          "execution_count": 3
        }
      ]
    },
    {
      "cell_type": "code",
      "metadata": {
        "colab": {
          "base_uri": "https://localhost:8080/"
        },
        "id": "fDSg9GGMxCrL",
        "outputId": "a63ded5e-d7e2-4207-dd75-30aa0bbae385"
      },
      "source": [
        "data.info()\r\n",
        "data.shape"
      ],
      "execution_count": null,
      "outputs": [
        {
          "output_type": "stream",
          "text": [
            "<class 'pandas.core.frame.DataFrame'>\n",
            "RangeIndex: 4898 entries, 0 to 4897\n",
            "Data columns (total 12 columns):\n",
            " #   Column                Non-Null Count  Dtype  \n",
            "---  ------                --------------  -----  \n",
            " 0   fixed acidity         4898 non-null   float64\n",
            " 1   volatile acidity      4898 non-null   float64\n",
            " 2   citric acid           4898 non-null   float64\n",
            " 3   residual sugar        4898 non-null   float64\n",
            " 4   chlorides             4898 non-null   float64\n",
            " 5   free sulfur dioxide   4898 non-null   float64\n",
            " 6   total sulfur dioxide  4898 non-null   float64\n",
            " 7   density               4898 non-null   float64\n",
            " 8   pH                    4898 non-null   float64\n",
            " 9   sulphates             4898 non-null   float64\n",
            " 10  alcohol               4898 non-null   float64\n",
            " 11  quality               4898 non-null   int64  \n",
            "dtypes: float64(11), int64(1)\n",
            "memory usage: 459.3 KB\n"
          ],
          "name": "stdout"
        },
        {
          "output_type": "execute_result",
          "data": {
            "text/plain": [
              "(4898, 12)"
            ]
          },
          "metadata": {
            "tags": []
          },
          "execution_count": 4
        }
      ]
    },
    {
      "cell_type": "code",
      "metadata": {
        "colab": {
          "base_uri": "https://localhost:8080/"
        },
        "id": "kxLFZPLwyb5u",
        "outputId": "73eb28d6-65ea-4e38-c6b1-d50d9fb0195b"
      },
      "source": [
        "from sklearn.utils import shuffle\r\n",
        "white_wine=shuffle(data, random_state=20)\r\n",
        "print(white_wine)"
      ],
      "execution_count": null,
      "outputs": [
        {
          "output_type": "stream",
          "text": [
            "      fixed acidity  volatile acidity  citric acid  ...  sulphates  alcohol  quality\n",
            "3994            6.7             0.280         0.34  ...       0.54     11.0        7\n",
            "2540            9.0             0.290         0.34  ...       0.47     10.6        5\n",
            "4030            6.9             0.190         0.38  ...       0.38     11.4        5\n",
            "952             6.5             0.170         0.33  ...       0.55     10.1        6\n",
            "1968            7.6             0.200         0.31  ...       0.53     10.1        6\n",
            "...             ...               ...          ...  ...        ...      ...      ...\n",
            "1607            5.8             0.190         0.49  ...       0.38      9.5        7\n",
            "3915            4.7             0.455         0.18  ...       0.83     14.0        7\n",
            "1428            8.2             0.180         0.49  ...       0.68     10.4        7\n",
            "4367            7.1             0.310         0.25  ...       0.40      9.5        5\n",
            "2522            7.3             0.170         0.24  ...       0.38     10.4        8\n",
            "\n",
            "[4898 rows x 12 columns]\n"
          ],
          "name": "stdout"
        }
      ]
    },
    {
      "cell_type": "code",
      "metadata": {
        "colab": {
          "base_uri": "https://localhost:8080/",
          "height": 531
        },
        "id": "awoBZg3K0bIq",
        "outputId": "b33bdcd1-7c2b-4315-fd8d-42e9005f32f9"
      },
      "source": [
        "print(data)\r\n",
        "data.plot.scatter(x='alcohol',y='quality')"
      ],
      "execution_count": null,
      "outputs": [
        {
          "output_type": "stream",
          "text": [
            "      fixed acidity  volatile acidity  citric acid  ...  sulphates  alcohol  quality\n",
            "0               7.0              0.27         0.36  ...       0.45      8.8        6\n",
            "1               6.3              0.30         0.34  ...       0.49      9.5        6\n",
            "2               8.1              0.28         0.40  ...       0.44     10.1        6\n",
            "3               7.2              0.23         0.32  ...       0.40      9.9        6\n",
            "4               7.2              0.23         0.32  ...       0.40      9.9        6\n",
            "...             ...               ...          ...  ...        ...      ...      ...\n",
            "4893            6.2              0.21         0.29  ...       0.50     11.2        6\n",
            "4894            6.6              0.32         0.36  ...       0.46      9.6        5\n",
            "4895            6.5              0.24         0.19  ...       0.46      9.4        6\n",
            "4896            5.5              0.29         0.30  ...       0.38     12.8        7\n",
            "4897            6.0              0.21         0.38  ...       0.32     11.8        6\n",
            "\n",
            "[4898 rows x 12 columns]\n"
          ],
          "name": "stdout"
        },
        {
          "output_type": "execute_result",
          "data": {
            "text/plain": [
              "<matplotlib.axes._subplots.AxesSubplot at 0x7f8d084826a0>"
            ]
          },
          "metadata": {
            "tags": []
          },
          "execution_count": 7
        },
        {
          "output_type": "display_data",
          "data": {
            "image/png": "[encoded data removed]",
            "text/plain": [
              "<Figure size 432x288 with 1 Axes>"
            ]
          },
          "metadata": {
            "tags": [],
            "needs_background": "light"
          }
        }
      ]
    },
    {
      "cell_type": "code",
      "metadata": {
        "colab": {
          "base_uri": "https://localhost:8080/"
        },
        "id": "JPx9Ew5gx4gr",
        "outputId": "baf16a5a-d561-40d8-a701-ee4ab7a262df"
      },
      "source": [
        "import numpy as np\r\n",
        "from sklearn.decomposition import PCA\r\n",
        "pca = PCA(n_components=2)\r\n",
        "pca.fit(data)\r\n",
        "print(\"principle components Variance Ratio\")\r\n",
        "print(pca.explained_variance_ratio_)\r\n"
      ],
      "execution_count": null,
      "outputs": [
        {
          "output_type": "stream",
          "text": [
            "principle components Variance Ratio\n",
            "[0.90933123 0.07931411]\n"
          ],
          "name": "stdout"
        }
      ]
    },
    {
      "cell_type": "code",
      "metadata": {
        "colab": {
          "base_uri": "https://localhost:8080/",
          "height": 315
        },
        "id": "8mJU4Q4r0Df1",
        "outputId": "2496d306-9afe-4462-c9a3-a2781b19bf05"
      },
      "source": [
        "import pandas as pd\r\n",
        "from sklearn import model_selection\r\n",
        "from sklearn.linear_model import LinearRegression\r\n",
        "from sklearn.model_selection import train_test_split\r\n",
        "from matplotlib import pyplot as plt\r\n",
        "from statistics import mean\r\n",
        "from sklearn import datasets, linear_model\r\n",
        "\r\n",
        "dataset_path = '/content/winequality-white.csv'\r\n",
        "data = pd.read_csv(dataset_path)\r\n",
        "#print(data)\r\n",
        "X = data.iloc[:,[0,1,2,3,4,5,6,7,8,9,10,11]]\r\n",
        "Y = data.iloc[:,[11]]\r\n",
        "# split data into X and y\r\n",
        "X_train, X_test, y_train, y_test = train_test_split(X, Y, test_size=0.2)\r\n",
        "print (X_train.shape, y_train.shape)\r\n",
        "print (X_test.shape, y_test.shape)\r\n",
        "lm = linear_model.LinearRegression()\r\n",
        "model = lm.fit(X_train, y_train)\r\n",
        "predictions = lm.predict(X_test)\r\n",
        "predictions\r\n",
        "\r\n",
        "plt.scatter(y_test, predictions)\r\n",
        "#plt.xlabel(“Observed”)\r\n",
        "#plt.ylabel(“Predictions”)\r\n",
        "\r\n",
        "print(model.score(X_test, y_test))"
      ],
      "execution_count": null,
      "outputs": [
        {
          "output_type": "stream",
          "text": [
            "(3918, 12) (3918, 1)\n",
            "(980, 12) (980, 1)\n",
            "1.0\n"
          ],
          "name": "stdout"
        },
        {
          "output_type": "display_data",
          "data": {
            "image/png": "[encoded data removed]",
            "text/plain": [
              "<Figure size 432x288 with 1 Axes>"
            ]
          },
          "metadata": {
            "tags": [],
            "needs_background": "light"
          }
        }
      ]
    }
  ]
}